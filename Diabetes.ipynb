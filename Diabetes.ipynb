{
  "cells": [
    {
      "cell_type": "markdown",
      "source": [
        "\n",
        "PROJECT: Trying to find if a patient is diabetic or not.\n",
        "Dataset used:-https://drive.google.com/file/d/1UqqhtYOaKwnE4dChiq0FKAhMceqbCZM2/view?usp=sharing "
      ],
      "metadata": {
        "id": "idlAL53Aqbcl"
      }
    },
    {
      "cell_type": "code",
      "execution_count": null,
      "metadata": {
        "colab": {
          "base_uri": "https://localhost:8080/"
        },
        "id": "zHRnDMuL-NrI",
        "outputId": "7983921b-133b-4cd3-b8c3-5015dbba1503"
      },
      "outputs": [
        {
          "output_type": "stream",
          "name": "stdout",
          "text": [
            "Looking in indexes: https://pypi.org/simple, https://us-python.pkg.dev/colab-wheels/public/simple/\n",
            "Requirement already satisfied: imbalanced-learn in /usr/local/lib/python3.7/dist-packages (0.9.0)\n",
            "Collecting imbalanced-learn\n",
            "  Using cached imbalanced_learn-0.9.1-py3-none-any.whl (199 kB)\n",
            "Requirement already satisfied: threadpoolctl>=2.0.0 in /usr/local/lib/python3.7/dist-packages (from imbalanced-learn) (3.1.0)\n",
            "Requirement already satisfied: scipy>=1.1.0 in /usr/local/lib/python3.7/dist-packages (from imbalanced-learn) (1.7.3)\n",
            "Requirement already satisfied: scikit-learn>=1.0.1 in /usr/local/lib/python3.7/dist-packages (from imbalanced-learn) (1.0.2)\n",
            "Requirement already satisfied: joblib>=0.11 in /usr/local/lib/python3.7/dist-packages (from imbalanced-learn) (1.2.0)\n",
            "Requirement already satisfied: numpy>=1.14.6 in /usr/local/lib/python3.7/dist-packages (from imbalanced-learn) (1.21.6)\n"
          ]
        }
      ],
      "source": [
        "!pip install -U imbalanced-learn"
      ]
    },
    {
      "cell_type": "code",
      "execution_count": null,
      "metadata": {
        "id": "JZ2_jM7cb8eu"
      },
      "outputs": [],
      "source": [
        "#importing libraries\n",
        "import numpy as np\n",
        "import pandas as pd\n",
        "import matplotlib.pyplot as plt \n",
        "from sklearn.model_selection import train_test_split\n",
        "from sklearn.preprocessing import StandardScaler\n",
        "import tensorflow as tf\n",
        "from imblearn.over_sampling import RandomOverSampler"
      ]
    },
    {
      "cell_type": "code",
      "execution_count": null,
      "metadata": {
        "colab": {
          "base_uri": "https://localhost:8080/"
        },
        "id": "oX_oTsApfx6A",
        "outputId": "481c372b-3955-4e83-bd53-28de3e1e5025"
      },
      "outputs": [
        {
          "output_type": "stream",
          "name": "stdout",
          "text": [
            "Drive already mounted at /content/gdrive; to attempt to forcibly remount, call drive.mount(\"/content/gdrive\", force_remount=True).\n"
          ]
        }
      ],
      "source": [
        "# df = pd.read_csv(\"diabetes.csv\") #reading the csv file, use this if you are uploding the dataset\n",
        "from google.colab import drive #usinf drive for easy acess to file\n",
        "\n",
        "drive.mount('/content/gdrive')"
      ]
    },
    {
      "cell_type": "code",
      "execution_count": null,
      "metadata": {
        "id": "OlLPODCcjkZJ"
      },
      "outputs": [],
      "source": [
        "df= pd.read_csv('/content/gdrive/My Drive/diabetes.csv')"
      ]
    },
    {
      "cell_type": "code",
      "execution_count": null,
      "metadata": {
        "colab": {
          "base_uri": "https://localhost:8080/",
          "height": 270
        },
        "id": "mvroUJp1gqRO",
        "outputId": "c8708218-f4a0-4110-cee4-d589666b4ba1"
      },
      "outputs": [
        {
          "output_type": "execute_result",
          "data": {
            "text/plain": [
              "   Pregnancies  Glucose  BloodPressure  SkinThickness  Insulin   BMI  \\\n",
              "0            6      148             72             35        0  33.6   \n",
              "1            1       85             66             29        0  26.6   \n",
              "2            8      183             64              0        0  23.3   \n",
              "3            1       89             66             23       94  28.1   \n",
              "4            0      137             40             35      168  43.1   \n",
              "\n",
              "   DiabetesPedigreeFunction  Age  Outcome  \n",
              "0                     0.627   50        1  \n",
              "1                     0.351   31        0  \n",
              "2                     0.672   32        1  \n",
              "3                     0.167   21        0  \n",
              "4                     2.288   33        1  "
            ],
            "text/html": [
              "\n",
              "  <div id=\"df-9956a8bb-0772-4c26-bd53-a21bd745409e\">\n",
              "    <div class=\"colab-df-container\">\n",
              "      <div>\n",
              "<style scoped>\n",
              "    .dataframe tbody tr th:only-of-type {\n",
              "        vertical-align: middle;\n",
              "    }\n",
              "\n",
              "    .dataframe tbody tr th {\n",
              "        vertical-align: top;\n",
              "    }\n",
              "\n",
              "    .dataframe thead th {\n",
              "        text-align: right;\n",
              "    }\n",
              "</style>\n",
              "<table border=\"1\" class=\"dataframe\">\n",
              "  <thead>\n",
              "    <tr style=\"text-align: right;\">\n",
              "      <th></th>\n",
              "      <th>Pregnancies</th>\n",
              "      <th>Glucose</th>\n",
              "      <th>BloodPressure</th>\n",
              "      <th>SkinThickness</th>\n",
              "      <th>Insulin</th>\n",
              "      <th>BMI</th>\n",
              "      <th>DiabetesPedigreeFunction</th>\n",
              "      <th>Age</th>\n",
              "      <th>Outcome</th>\n",
              "    </tr>\n",
              "  </thead>\n",
              "  <tbody>\n",
              "    <tr>\n",
              "      <th>0</th>\n",
              "      <td>6</td>\n",
              "      <td>148</td>\n",
              "      <td>72</td>\n",
              "      <td>35</td>\n",
              "      <td>0</td>\n",
              "      <td>33.6</td>\n",
              "      <td>0.627</td>\n",
              "      <td>50</td>\n",
              "      <td>1</td>\n",
              "    </tr>\n",
              "    <tr>\n",
              "      <th>1</th>\n",
              "      <td>1</td>\n",
              "      <td>85</td>\n",
              "      <td>66</td>\n",
              "      <td>29</td>\n",
              "      <td>0</td>\n",
              "      <td>26.6</td>\n",
              "      <td>0.351</td>\n",
              "      <td>31</td>\n",
              "      <td>0</td>\n",
              "    </tr>\n",
              "    <tr>\n",
              "      <th>2</th>\n",
              "      <td>8</td>\n",
              "      <td>183</td>\n",
              "      <td>64</td>\n",
              "      <td>0</td>\n",
              "      <td>0</td>\n",
              "      <td>23.3</td>\n",
              "      <td>0.672</td>\n",
              "      <td>32</td>\n",
              "      <td>1</td>\n",
              "    </tr>\n",
              "    <tr>\n",
              "      <th>3</th>\n",
              "      <td>1</td>\n",
              "      <td>89</td>\n",
              "      <td>66</td>\n",
              "      <td>23</td>\n",
              "      <td>94</td>\n",
              "      <td>28.1</td>\n",
              "      <td>0.167</td>\n",
              "      <td>21</td>\n",
              "      <td>0</td>\n",
              "    </tr>\n",
              "    <tr>\n",
              "      <th>4</th>\n",
              "      <td>0</td>\n",
              "      <td>137</td>\n",
              "      <td>40</td>\n",
              "      <td>35</td>\n",
              "      <td>168</td>\n",
              "      <td>43.1</td>\n",
              "      <td>2.288</td>\n",
              "      <td>33</td>\n",
              "      <td>1</td>\n",
              "    </tr>\n",
              "  </tbody>\n",
              "</table>\n",
              "</div>\n",
              "      <button class=\"colab-df-convert\" onclick=\"convertToInteractive('df-9956a8bb-0772-4c26-bd53-a21bd745409e')\"\n",
              "              title=\"Convert this dataframe to an interactive table.\"\n",
              "              style=\"display:none;\">\n",
              "        \n",
              "  <svg xmlns=\"http://www.w3.org/2000/svg\" height=\"24px\"viewBox=\"0 0 24 24\"\n",
              "       width=\"24px\">\n",
              "    <path d=\"M0 0h24v24H0V0z\" fill=\"none\"/>\n",
              "    <path d=\"M18.56 5.44l.94 2.06.94-2.06 2.06-.94-2.06-.94-.94-2.06-.94 2.06-2.06.94zm-11 1L8.5 8.5l.94-2.06 2.06-.94-2.06-.94L8.5 2.5l-.94 2.06-2.06.94zm10 10l.94 2.06.94-2.06 2.06-.94-2.06-.94-.94-2.06-.94 2.06-2.06.94z\"/><path d=\"M17.41 7.96l-1.37-1.37c-.4-.4-.92-.59-1.43-.59-.52 0-1.04.2-1.43.59L10.3 9.45l-7.72 7.72c-.78.78-.78 2.05 0 2.83L4 21.41c.39.39.9.59 1.41.59.51 0 1.02-.2 1.41-.59l7.78-7.78 2.81-2.81c.8-.78.8-2.07 0-2.86zM5.41 20L4 18.59l7.72-7.72 1.47 1.35L5.41 20z\"/>\n",
              "  </svg>\n",
              "      </button>\n",
              "      \n",
              "  <style>\n",
              "    .colab-df-container {\n",
              "      display:flex;\n",
              "      flex-wrap:wrap;\n",
              "      gap: 12px;\n",
              "    }\n",
              "\n",
              "    .colab-df-convert {\n",
              "      background-color: #E8F0FE;\n",
              "      border: none;\n",
              "      border-radius: 50%;\n",
              "      cursor: pointer;\n",
              "      display: none;\n",
              "      fill: #1967D2;\n",
              "      height: 32px;\n",
              "      padding: 0 0 0 0;\n",
              "      width: 32px;\n",
              "    }\n",
              "\n",
              "    .colab-df-convert:hover {\n",
              "      background-color: #E2EBFA;\n",
              "      box-shadow: 0px 1px 2px rgba(60, 64, 67, 0.3), 0px 1px 3px 1px rgba(60, 64, 67, 0.15);\n",
              "      fill: #174EA6;\n",
              "    }\n",
              "\n",
              "    [theme=dark] .colab-df-convert {\n",
              "      background-color: #3B4455;\n",
              "      fill: #D2E3FC;\n",
              "    }\n",
              "\n",
              "    [theme=dark] .colab-df-convert:hover {\n",
              "      background-color: #434B5C;\n",
              "      box-shadow: 0px 1px 3px 1px rgba(0, 0, 0, 0.15);\n",
              "      filter: drop-shadow(0px 1px 2px rgba(0, 0, 0, 0.3));\n",
              "      fill: #FFFFFF;\n",
              "    }\n",
              "  </style>\n",
              "\n",
              "      <script>\n",
              "        const buttonEl =\n",
              "          document.querySelector('#df-9956a8bb-0772-4c26-bd53-a21bd745409e button.colab-df-convert');\n",
              "        buttonEl.style.display =\n",
              "          google.colab.kernel.accessAllowed ? 'block' : 'none';\n",
              "\n",
              "        async function convertToInteractive(key) {\n",
              "          const element = document.querySelector('#df-9956a8bb-0772-4c26-bd53-a21bd745409e');\n",
              "          const dataTable =\n",
              "            await google.colab.kernel.invokeFunction('convertToInteractive',\n",
              "                                                     [key], {});\n",
              "          if (!dataTable) return;\n",
              "\n",
              "          const docLinkHtml = 'Like what you see? Visit the ' +\n",
              "            '<a target=\"_blank\" href=https://colab.research.google.com/notebooks/data_table.ipynb>data table notebook</a>'\n",
              "            + ' to learn more about interactive tables.';\n",
              "          element.innerHTML = '';\n",
              "          dataTable['output_type'] = 'display_data';\n",
              "          await google.colab.output.renderOutput(dataTable, element);\n",
              "          const docLink = document.createElement('div');\n",
              "          docLink.innerHTML = docLinkHtml;\n",
              "          element.appendChild(docLink);\n",
              "        }\n",
              "      </script>\n",
              "    </div>\n",
              "  </div>\n",
              "  "
            ]
          },
          "metadata": {},
          "execution_count": 28
        }
      ],
      "source": [
        "df.head() #printing the csv file"
      ]
    },
    {
      "cell_type": "code",
      "execution_count": null,
      "metadata": {
        "colab": {
          "base_uri": "https://localhost:8080/"
        },
        "id": "iYtsv71oRKUN",
        "outputId": "d8b08989-0db7-4290-efbc-ebf3319b8153"
      },
      "outputs": [
        {
          "output_type": "execute_result",
          "data": {
            "text/plain": [
              "Index(['Pregnancies', 'Glucose', 'BloodPressure', 'SkinThickness', 'Insulin',\n",
              "       'BMI', 'DiabetesPedigreeFunction', 'Age', 'Outcome'],\n",
              "      dtype='object')"
            ]
          },
          "metadata": {},
          "execution_count": 29
        }
      ],
      "source": [
        "df.columns #prints the columns"
      ]
    },
    {
      "cell_type": "code",
      "execution_count": null,
      "metadata": {
        "colab": {
          "base_uri": "https://localhost:8080/",
          "height": 487
        },
        "id": "wn31xwS-SVr7",
        "outputId": "261498d0-698f-492d-be1b-cae860f21350"
      },
      "outputs": [
        {
          "output_type": "execute_result",
          "data": {
            "text/plain": [
              "     Pregnancies  Glucose  BloodPressure  SkinThickness  Insulin   BMI  \\\n",
              "0              6      148             72             35        0  33.6   \n",
              "2              8      183             64              0        0  23.3   \n",
              "4              0      137             40             35      168  43.1   \n",
              "6              3       78             50             32       88  31.0   \n",
              "8              2      197             70             45      543  30.5   \n",
              "..           ...      ...            ...            ...      ...   ...   \n",
              "755            1      128             88             39      110  36.5   \n",
              "757            0      123             72              0        0  36.3   \n",
              "759            6      190             92              0        0  35.5   \n",
              "761            9      170             74             31        0  44.0   \n",
              "766            1      126             60              0        0  30.1   \n",
              "\n",
              "     DiabetesPedigreeFunction  Age  Outcome  \n",
              "0                       0.627   50        1  \n",
              "2                       0.672   32        1  \n",
              "4                       2.288   33        1  \n",
              "6                       0.248   26        1  \n",
              "8                       0.158   53        1  \n",
              "..                        ...  ...      ...  \n",
              "755                     1.057   37        1  \n",
              "757                     0.258   52        1  \n",
              "759                     0.278   66        1  \n",
              "761                     0.403   43        1  \n",
              "766                     0.349   47        1  \n",
              "\n",
              "[268 rows x 9 columns]"
            ],
            "text/html": [
              "\n",
              "  <div id=\"df-c7a02cd8-b51b-45ec-b6c9-da5c5025f8b4\">\n",
              "    <div class=\"colab-df-container\">\n",
              "      <div>\n",
              "<style scoped>\n",
              "    .dataframe tbody tr th:only-of-type {\n",
              "        vertical-align: middle;\n",
              "    }\n",
              "\n",
              "    .dataframe tbody tr th {\n",
              "        vertical-align: top;\n",
              "    }\n",
              "\n",
              "    .dataframe thead th {\n",
              "        text-align: right;\n",
              "    }\n",
              "</style>\n",
              "<table border=\"1\" class=\"dataframe\">\n",
              "  <thead>\n",
              "    <tr style=\"text-align: right;\">\n",
              "      <th></th>\n",
              "      <th>Pregnancies</th>\n",
              "      <th>Glucose</th>\n",
              "      <th>BloodPressure</th>\n",
              "      <th>SkinThickness</th>\n",
              "      <th>Insulin</th>\n",
              "      <th>BMI</th>\n",
              "      <th>DiabetesPedigreeFunction</th>\n",
              "      <th>Age</th>\n",
              "      <th>Outcome</th>\n",
              "    </tr>\n",
              "  </thead>\n",
              "  <tbody>\n",
              "    <tr>\n",
              "      <th>0</th>\n",
              "      <td>6</td>\n",
              "      <td>148</td>\n",
              "      <td>72</td>\n",
              "      <td>35</td>\n",
              "      <td>0</td>\n",
              "      <td>33.6</td>\n",
              "      <td>0.627</td>\n",
              "      <td>50</td>\n",
              "      <td>1</td>\n",
              "    </tr>\n",
              "    <tr>\n",
              "      <th>2</th>\n",
              "      <td>8</td>\n",
              "      <td>183</td>\n",
              "      <td>64</td>\n",
              "      <td>0</td>\n",
              "      <td>0</td>\n",
              "      <td>23.3</td>\n",
              "      <td>0.672</td>\n",
              "      <td>32</td>\n",
              "      <td>1</td>\n",
              "    </tr>\n",
              "    <tr>\n",
              "      <th>4</th>\n",
              "      <td>0</td>\n",
              "      <td>137</td>\n",
              "      <td>40</td>\n",
              "      <td>35</td>\n",
              "      <td>168</td>\n",
              "      <td>43.1</td>\n",
              "      <td>2.288</td>\n",
              "      <td>33</td>\n",
              "      <td>1</td>\n",
              "    </tr>\n",
              "    <tr>\n",
              "      <th>6</th>\n",
              "      <td>3</td>\n",
              "      <td>78</td>\n",
              "      <td>50</td>\n",
              "      <td>32</td>\n",
              "      <td>88</td>\n",
              "      <td>31.0</td>\n",
              "      <td>0.248</td>\n",
              "      <td>26</td>\n",
              "      <td>1</td>\n",
              "    </tr>\n",
              "    <tr>\n",
              "      <th>8</th>\n",
              "      <td>2</td>\n",
              "      <td>197</td>\n",
              "      <td>70</td>\n",
              "      <td>45</td>\n",
              "      <td>543</td>\n",
              "      <td>30.5</td>\n",
              "      <td>0.158</td>\n",
              "      <td>53</td>\n",
              "      <td>1</td>\n",
              "    </tr>\n",
              "    <tr>\n",
              "      <th>...</th>\n",
              "      <td>...</td>\n",
              "      <td>...</td>\n",
              "      <td>...</td>\n",
              "      <td>...</td>\n",
              "      <td>...</td>\n",
              "      <td>...</td>\n",
              "      <td>...</td>\n",
              "      <td>...</td>\n",
              "      <td>...</td>\n",
              "    </tr>\n",
              "    <tr>\n",
              "      <th>755</th>\n",
              "      <td>1</td>\n",
              "      <td>128</td>\n",
              "      <td>88</td>\n",
              "      <td>39</td>\n",
              "      <td>110</td>\n",
              "      <td>36.5</td>\n",
              "      <td>1.057</td>\n",
              "      <td>37</td>\n",
              "      <td>1</td>\n",
              "    </tr>\n",
              "    <tr>\n",
              "      <th>757</th>\n",
              "      <td>0</td>\n",
              "      <td>123</td>\n",
              "      <td>72</td>\n",
              "      <td>0</td>\n",
              "      <td>0</td>\n",
              "      <td>36.3</td>\n",
              "      <td>0.258</td>\n",
              "      <td>52</td>\n",
              "      <td>1</td>\n",
              "    </tr>\n",
              "    <tr>\n",
              "      <th>759</th>\n",
              "      <td>6</td>\n",
              "      <td>190</td>\n",
              "      <td>92</td>\n",
              "      <td>0</td>\n",
              "      <td>0</td>\n",
              "      <td>35.5</td>\n",
              "      <td>0.278</td>\n",
              "      <td>66</td>\n",
              "      <td>1</td>\n",
              "    </tr>\n",
              "    <tr>\n",
              "      <th>761</th>\n",
              "      <td>9</td>\n",
              "      <td>170</td>\n",
              "      <td>74</td>\n",
              "      <td>31</td>\n",
              "      <td>0</td>\n",
              "      <td>44.0</td>\n",
              "      <td>0.403</td>\n",
              "      <td>43</td>\n",
              "      <td>1</td>\n",
              "    </tr>\n",
              "    <tr>\n",
              "      <th>766</th>\n",
              "      <td>1</td>\n",
              "      <td>126</td>\n",
              "      <td>60</td>\n",
              "      <td>0</td>\n",
              "      <td>0</td>\n",
              "      <td>30.1</td>\n",
              "      <td>0.349</td>\n",
              "      <td>47</td>\n",
              "      <td>1</td>\n",
              "    </tr>\n",
              "  </tbody>\n",
              "</table>\n",
              "<p>268 rows × 9 columns</p>\n",
              "</div>\n",
              "      <button class=\"colab-df-convert\" onclick=\"convertToInteractive('df-c7a02cd8-b51b-45ec-b6c9-da5c5025f8b4')\"\n",
              "              title=\"Convert this dataframe to an interactive table.\"\n",
              "              style=\"display:none;\">\n",
              "        \n",
              "  <svg xmlns=\"http://www.w3.org/2000/svg\" height=\"24px\"viewBox=\"0 0 24 24\"\n",
              "       width=\"24px\">\n",
              "    <path d=\"M0 0h24v24H0V0z\" fill=\"none\"/>\n",
              "    <path d=\"M18.56 5.44l.94 2.06.94-2.06 2.06-.94-2.06-.94-.94-2.06-.94 2.06-2.06.94zm-11 1L8.5 8.5l.94-2.06 2.06-.94-2.06-.94L8.5 2.5l-.94 2.06-2.06.94zm10 10l.94 2.06.94-2.06 2.06-.94-2.06-.94-.94-2.06-.94 2.06-2.06.94z\"/><path d=\"M17.41 7.96l-1.37-1.37c-.4-.4-.92-.59-1.43-.59-.52 0-1.04.2-1.43.59L10.3 9.45l-7.72 7.72c-.78.78-.78 2.05 0 2.83L4 21.41c.39.39.9.59 1.41.59.51 0 1.02-.2 1.41-.59l7.78-7.78 2.81-2.81c.8-.78.8-2.07 0-2.86zM5.41 20L4 18.59l7.72-7.72 1.47 1.35L5.41 20z\"/>\n",
              "  </svg>\n",
              "      </button>\n",
              "      \n",
              "  <style>\n",
              "    .colab-df-container {\n",
              "      display:flex;\n",
              "      flex-wrap:wrap;\n",
              "      gap: 12px;\n",
              "    }\n",
              "\n",
              "    .colab-df-convert {\n",
              "      background-color: #E8F0FE;\n",
              "      border: none;\n",
              "      border-radius: 50%;\n",
              "      cursor: pointer;\n",
              "      display: none;\n",
              "      fill: #1967D2;\n",
              "      height: 32px;\n",
              "      padding: 0 0 0 0;\n",
              "      width: 32px;\n",
              "    }\n",
              "\n",
              "    .colab-df-convert:hover {\n",
              "      background-color: #E2EBFA;\n",
              "      box-shadow: 0px 1px 2px rgba(60, 64, 67, 0.3), 0px 1px 3px 1px rgba(60, 64, 67, 0.15);\n",
              "      fill: #174EA6;\n",
              "    }\n",
              "\n",
              "    [theme=dark] .colab-df-convert {\n",
              "      background-color: #3B4455;\n",
              "      fill: #D2E3FC;\n",
              "    }\n",
              "\n",
              "    [theme=dark] .colab-df-convert:hover {\n",
              "      background-color: #434B5C;\n",
              "      box-shadow: 0px 1px 3px 1px rgba(0, 0, 0, 0.15);\n",
              "      filter: drop-shadow(0px 1px 2px rgba(0, 0, 0, 0.3));\n",
              "      fill: #FFFFFF;\n",
              "    }\n",
              "  </style>\n",
              "\n",
              "      <script>\n",
              "        const buttonEl =\n",
              "          document.querySelector('#df-c7a02cd8-b51b-45ec-b6c9-da5c5025f8b4 button.colab-df-convert');\n",
              "        buttonEl.style.display =\n",
              "          google.colab.kernel.accessAllowed ? 'block' : 'none';\n",
              "\n",
              "        async function convertToInteractive(key) {\n",
              "          const element = document.querySelector('#df-c7a02cd8-b51b-45ec-b6c9-da5c5025f8b4');\n",
              "          const dataTable =\n",
              "            await google.colab.kernel.invokeFunction('convertToInteractive',\n",
              "                                                     [key], {});\n",
              "          if (!dataTable) return;\n",
              "\n",
              "          const docLinkHtml = 'Like what you see? Visit the ' +\n",
              "            '<a target=\"_blank\" href=https://colab.research.google.com/notebooks/data_table.ipynb>data table notebook</a>'\n",
              "            + ' to learn more about interactive tables.';\n",
              "          element.innerHTML = '';\n",
              "          dataTable['output_type'] = 'display_data';\n",
              "          await google.colab.output.renderOutput(dataTable, element);\n",
              "          const docLink = document.createElement('div');\n",
              "          docLink.innerHTML = docLinkHtml;\n",
              "          element.appendChild(docLink);\n",
              "        }\n",
              "      </script>\n",
              "    </div>\n",
              "  </div>\n",
              "  "
            ]
          },
          "metadata": {},
          "execution_count": 30
        }
      ],
      "source": [
        "df[df['Outcome'] == 1] #creates dataframe with all outcomes equals one"
      ]
    },
    {
      "cell_type": "code",
      "execution_count": null,
      "metadata": {
        "colab": {
          "base_uri": "https://localhost:8080/"
        },
        "id": "Y8MCLUAtW0_-",
        "outputId": "4798486a-016f-48b0-e057-8223019ba267"
      },
      "outputs": [
        {
          "output_type": "execute_result",
          "data": {
            "text/plain": [
              "8"
            ]
          },
          "metadata": {},
          "execution_count": 31
        }
      ],
      "source": [
        "len(df.columns[:-1]) #all columns minus the last one"
      ]
    },
    {
      "cell_type": "code",
      "execution_count": null,
      "metadata": {
        "colab": {
          "base_uri": "https://localhost:8080/"
        },
        "id": "BW9kkDIo7X0N",
        "outputId": "386043a3-4209-4112-d3b9-c956b1ea0580"
      },
      "outputs": [
        {
          "output_type": "execute_result",
          "data": {
            "text/plain": [
              "(268, 500)"
            ]
          },
          "metadata": {},
          "execution_count": 32
        }
      ],
      "source": [
        "len(df[df[\"Outcome\"]==1]),len(df[df[\"Outcome\"]==0]) #positive vs negative"
      ]
    },
    {
      "cell_type": "code",
      "execution_count": null,
      "metadata": {
        "colab": {
          "base_uri": "https://localhost:8080/",
          "height": 2241
        },
        "id": "ccCjZtDFhMI3",
        "outputId": "a2d6047c-e075-4ddc-f107-69263fdd0098"
      },
      "outputs": [
        {
          "output_type": "display_data",
          "data": {
            "text/plain": [
              "<Figure size 432x288 with 1 Axes>"
            ],
            "image/png": "[encoded data removed]"
          },
          "metadata": {
            "needs_background": "light"
          }
        },
        {
          "output_type": "display_data",
          "data": {
            "text/plain": [
              "<Figure size 432x288 with 1 Axes>"
            ],
            "image/png": "[encoded data removed]"
          },
          "metadata": {
            "needs_background": "light"
          }
        },
        {
          "output_type": "display_data",
          "data": {
            "text/plain": [
              "<Figure size 432x288 with 1 Axes>"
            ],
            "image/png": "[encoded data removed]"
          },
          "metadata": {
            "needs_background": "light"
          }
        },
        {
          "output_type": "display_data",
          "data": {
            "text/plain": [
              "<Figure size 432x288 with 1 Axes>"
            ],
            "image/png": "[encoded data removed]"
          },
          "metadata": {
            "needs_background": "light"
          }
        },
        {
          "output_type": "display_data",
          "data": {
            "text/plain": [
              "<Figure size 432x288 with 1 Axes>"
            ],
            "image/png": "[encoded data removed]"
          },
          "metadata": {
            "needs_background": "light"
          }
        },
        {
          "output_type": "display_data",
          "data": {
            "text/plain": [
              "<Figure size 432x288 with 1 Axes>"
            ],
            "image/png": "[encoded data removed]"
          },
          "metadata": {
            "needs_background": "light"
          }
        },
        {
          "output_type": "display_data",
          "data": {
            "text/plain": [
              "<Figure size 432x288 with 1 Axes>"
            ],
            "image/png": "[encoded data removed]"
          },
          "metadata": {
            "needs_background": "light"
          }
        },
        {
          "output_type": "display_data",
          "data": {
            "text/plain": [
              "<Figure size 432x288 with 1 Axes>"
            ],
            "image/png": "[encoded data removed]"
          },
          "metadata": {
            "needs_background": "light"
          }
        }
      ],
      "source": [
        "#making histograms so that we can find the realtionship between diabetes and other body measures\n",
        "for i in range(len(df.columns[:-1])):\n",
        "  label = df.columns[i]\n",
        "  plt.hist(df[df['Outcome'] == 1][label], color='red',label =\"Diabetic\",alpha=0.7,density=True, bins=15)\n",
        "  plt.hist(df[df['Outcome'] == 0][label], color='green', label = \"Non-Diabetic\",alpha=0.7,density=True, bins=15)\n",
        "  plt.title(label)\n",
        "  plt.ylabel(\"Probablity\")\n",
        "  plt.xlabel(label)\n",
        "  plt.legend()\n",
        "  plt.show()\n",
        "  #basically we are trying to visualize the data (diabetic vs varaibles)"
      ]
    },
    {
      "cell_type": "code",
      "execution_count": null,
      "metadata": {
        "id": "7WXzKGrq9GP9"
      },
      "outputs": [],
      "source": [
        "X = df[df.columns[:-1]].values #gives us a numpy array\n",
        "Y = df[df.columns[-1]].values #array containing data about diabtetic or not"
      ]
    },
    {
      "cell_type": "code",
      "execution_count": null,
      "metadata": {
        "id": "kJXaXkDc4_ZU"
      },
      "outputs": [],
      "source": [
        "#scaling the data so that we can get better results during traning\n",
        "scaler = StandardScaler()\n",
        "X = scaler.fit_transform(X)\n",
        "data = np.hstack((X, np.reshape(Y,(-1,1))))\n",
        "transformed_df = pd.DataFrame(data,columns=df.columns )"
      ]
    },
    {
      "cell_type": "code",
      "execution_count": null,
      "metadata": {
        "colab": {
          "base_uri": "https://localhost:8080/",
          "height": 2241
        },
        "id": "qZXq3ejs5jBU",
        "outputId": "198fb17e-a371-4cbf-988b-a73803fb5eb5"
      },
      "outputs": [
        {
          "output_type": "display_data",
          "data": {
            "text/plain": [
              "<Figure size 432x288 with 1 Axes>"
            ],
            "image/png": "[encoded data removed]"
          },
          "metadata": {
            "needs_background": "light"
          }
        },
        {
          "output_type": "display_data",
          "data": {
            "text/plain": [
              "<Figure size 432x288 with 1 Axes>"
            ],
            "image/png": "[encoded data removed]"
          },
          "metadata": {
            "needs_background": "light"
          }
        },
        {
          "output_type": "display_data",
          "data": {
            "text/plain": [
              "<Figure size 432x288 with 1 Axes>"
            ],
            "image/png": "[encoded data removed]"
          },
          "metadata": {
            "needs_background": "light"
          }
        },
        {
          "output_type": "display_data",
          "data": {
            "text/plain": [
              "<Figure size 432x288 with 1 Axes>"
            ],
            "image/png": "[encoded data removed]"
          },
          "metadata": {
            "needs_background": "light"
          }
        },
        {
          "output_type": "display_data",
          "data": {
            "text/plain": [
              "<Figure size 432x288 with 1 Axes>"
            ],
            "image/png": "[encoded data removed]"
          },
          "metadata": {
            "needs_background": "light"
          }
        },
        {
          "output_type": "display_data",
          "data": {
            "text/plain": [
              "<Figure size 432x288 with 1 Axes>"
            ],
            "image/png": "[encoded data removed]"
          },
          "metadata": {
            "needs_background": "light"
          }
        },
        {
          "output_type": "display_data",
          "data": {
            "text/plain": [
              "<Figure size 432x288 with 1 Axes>"
            ],
            "image/png": "[encoded data removed]"
          },
          "metadata": {
            "needs_background": "light"
          }
        },
        {
          "output_type": "display_data",
          "data": {
            "text/plain": [
              "<Figure size 432x288 with 1 Axes>"
            ],
            "image/png": "[encoded data removed]"
          },
          "metadata": {
            "needs_background": "light"
          }
        }
      ],
      "source": [
        "#visualizing the scaled data\n",
        "for i in range(len(df.columns[:-1])):\n",
        "  label = df.columns[i]\n",
        "  plt.hist(transformed_df[transformed_df['Outcome'] == 1][label], color='red',label =\"Diabetic\",alpha=0.7,density=True, bins=15)\n",
        "  plt.hist(transformed_df[transformed_df['Outcome'] == 0][label], color='green', label = \"Non-Diabetic\",alpha=0.7,density=True, bins=15)\n",
        "  plt.title(label)\n",
        "  plt.ylabel(\"Probablity\")\n",
        "  plt.xlabel(label)\n",
        "  plt.legend()\n",
        "  plt.show()"
      ]
    },
    {
      "cell_type": "code",
      "execution_count": null,
      "metadata": {
        "colab": {
          "base_uri": "https://localhost:8080/"
        },
        "id": "JSEoPXVF8xet",
        "outputId": "2f45fbff-0208-4947-851e-80b2d2094319"
      },
      "outputs": [
        {
          "output_type": "execute_result",
          "data": {
            "text/plain": [
              "(268, 500)"
            ]
          },
          "metadata": {},
          "execution_count": 37
        }
      ],
      "source": [
        "len(transformed_df[transformed_df[\"Outcome\"]==1]), len(transformed_df[transformed_df[\"Outcome\"]==0])"
      ]
    },
    {
      "cell_type": "markdown",
      "metadata": {
        "id": "5znU3gaE9Urf"
      },
      "source": [
        "we can see that the number of diabetic vs non-diabetic is twice the size. This also might lead to not traning the NN well and thats why we can try to make both inputs equal"
      ]
    },
    {
      "cell_type": "code",
      "execution_count": null,
      "metadata": {
        "id": "Q-PXIziN_j2L"
      },
      "outputs": [],
      "source": [
        "#making the inputs equal in number \n",
        "over = RandomOverSampler()\n",
        "X, Y = over.fit_resample(X,Y)\n",
        "data = np.hstack((X, np.reshape(Y,(-1,1))))\n",
        "transformed_df = pd.DataFrame(data,columns=df.columns )"
      ]
    },
    {
      "cell_type": "code",
      "execution_count": null,
      "metadata": {
        "colab": {
          "base_uri": "https://localhost:8080/"
        },
        "id": "JZeXdNwE_8-R",
        "outputId": "84ea7061-1b98-4343-909f-b5bfcfad518e"
      },
      "outputs": [
        {
          "output_type": "execute_result",
          "data": {
            "text/plain": [
              "(500, 500)"
            ]
          },
          "metadata": {},
          "execution_count": 39
        }
      ],
      "source": [
        "len(transformed_df[transformed_df[\"Outcome\"]==1]), len(transformed_df[transformed_df[\"Outcome\"]==0])"
      ]
    },
    {
      "cell_type": "code",
      "execution_count": null,
      "metadata": {
        "id": "fRVrsOGHB5-e"
      },
      "outputs": [],
      "source": [
        "X_train, X_temp, Y_train, Y_temp = train_test_split(X,Y, test_size = 0.4, random_state=0) #test_size defines the amount of data we are using to train the model which is 0.4. \n",
        "#random_state spilts the data from same place \n",
        "X_valid, X_test, Y_valid, Y_test = train_test_split(X_temp,Y_temp, test_size = 0.5, random_state=0)"
      ]
    },
    {
      "cell_type": "code",
      "execution_count": null,
      "metadata": {
        "id": "O-FPrzzcoyXw"
      },
      "outputs": [],
      "source": [
        "model = tf.keras.Sequential([\n",
        "                             tf.keras.layers.Dense(16, activation='relu'),\n",
        "                             tf.keras.layers.Dense(16, activation='relu'),\n",
        "                             tf.keras.layers.Dense(1, activation='sigmoid')\n",
        "])"
      ]
    },
    {
      "cell_type": "code",
      "execution_count": null,
      "metadata": {
        "id": "3WHp21HRrBu5"
      },
      "outputs": [],
      "source": [
        "model.compile(optimizer = tf.keras.optimizers.Adam(learning_rate=0.01),  #compiling the model by using common optimizer Adam and chosing the learning rate and loss function \n",
        "              loss=tf.keras.losses.BinaryCrossentropy(),\n",
        "              metrics=['accuracy'])"
      ]
    },
    {
      "cell_type": "code",
      "execution_count": null,
      "metadata": {
        "colab": {
          "base_uri": "https://localhost:8080/"
        },
        "id": "sPgQmpQHsWEy",
        "outputId": "4b1efd21-9bf8-42f4-9bcf-b5f22e573225"
      },
      "outputs": [
        {
          "output_type": "stream",
          "name": "stdout",
          "text": [
            "19/19 [==============================] - 0s 2ms/step - loss: 0.7235 - accuracy: 0.4150\n"
          ]
        },
        {
          "output_type": "execute_result",
          "data": {
            "text/plain": [
              "[0.7235147356987, 0.41499999165534973]"
            ]
          },
          "metadata": {},
          "execution_count": 43
        }
      ],
      "source": [
        "model.evaluate(X_train,Y_train) #trying to evaluate how our model is working as of noe"
      ]
    },
    {
      "cell_type": "code",
      "execution_count": null,
      "metadata": {
        "colab": {
          "base_uri": "https://localhost:8080/"
        },
        "id": "kgQDFwRcsdMn",
        "outputId": "378bbbee-0d07-420b-88d8-a2ef018bc9c2"
      },
      "outputs": [
        {
          "output_type": "stream",
          "name": "stdout",
          "text": [
            "7/7 [==============================] - 0s 3ms/step - loss: 0.7293 - accuracy: 0.4400\n"
          ]
        },
        {
          "output_type": "execute_result",
          "data": {
            "text/plain": [
              "[0.7292875647544861, 0.4399999976158142]"
            ]
          },
          "metadata": {},
          "execution_count": 44
        }
      ],
      "source": [
        "model.evaluate(X_valid,Y_valid) #evaluating with validation data"
      ]
    },
    {
      "cell_type": "code",
      "execution_count": null,
      "metadata": {
        "colab": {
          "base_uri": "https://localhost:8080/"
        },
        "id": "ggv2Y5eNs5eq",
        "outputId": "dd68670d-d7c8-465f-d204-26ae3797ec54"
      },
      "outputs": [
        {
          "output_type": "stream",
          "name": "stdout",
          "text": [
            "Epoch 1/100\n",
            "1/1 [==============================] - 1s 930ms/step - loss: 0.7725 - accuracy: 0.4750 - val_loss: 0.7114 - val_accuracy: 0.5050\n",
            "Epoch 2/100\n",
            "1/1 [==============================] - 0s 47ms/step - loss: 0.7139 - accuracy: 0.5083 - val_loss: 0.6798 - val_accuracy: 0.5450\n",
            "Epoch 3/100\n",
            "1/1 [==============================] - 0s 51ms/step - loss: 0.6755 - accuracy: 0.5583 - val_loss: 0.6599 - val_accuracy: 0.6350\n",
            "Epoch 4/100\n",
            "1/1 [==============================] - 0s 32ms/step - loss: 0.6505 - accuracy: 0.6567 - val_loss: 0.6470 - val_accuracy: 0.6550\n",
            "Epoch 5/100\n",
            "1/1 [==============================] - 0s 33ms/step - loss: 0.6347 - accuracy: 0.6550 - val_loss: 0.6373 - val_accuracy: 0.6550\n",
            "Epoch 6/100\n",
            "1/1 [==============================] - 0s 40ms/step - loss: 0.6238 - accuracy: 0.6733 - val_loss: 0.6270 - val_accuracy: 0.6800\n",
            "Epoch 7/100\n",
            "1/1 [==============================] - 0s 32ms/step - loss: 0.6135 - accuracy: 0.6700 - val_loss: 0.6153 - val_accuracy: 0.6850\n",
            "Epoch 8/100\n",
            "1/1 [==============================] - 0s 30ms/step - loss: 0.6024 - accuracy: 0.6850 - val_loss: 0.6022 - val_accuracy: 0.7000\n",
            "Epoch 9/100\n",
            "1/1 [==============================] - 0s 32ms/step - loss: 0.5903 - accuracy: 0.6800 - val_loss: 0.5882 - val_accuracy: 0.7000\n",
            "Epoch 10/100\n",
            "1/1 [==============================] - 0s 33ms/step - loss: 0.5779 - accuracy: 0.6800 - val_loss: 0.5748 - val_accuracy: 0.7200\n",
            "Epoch 11/100\n",
            "1/1 [==============================] - 0s 33ms/step - loss: 0.5663 - accuracy: 0.7000 - val_loss: 0.5628 - val_accuracy: 0.7200\n",
            "Epoch 12/100\n",
            "1/1 [==============================] - 0s 37ms/step - loss: 0.5562 - accuracy: 0.7233 - val_loss: 0.5525 - val_accuracy: 0.7150\n",
            "Epoch 13/100\n",
            "1/1 [==============================] - 0s 33ms/step - loss: 0.5481 - accuracy: 0.7317 - val_loss: 0.5441 - val_accuracy: 0.7300\n",
            "Epoch 14/100\n",
            "1/1 [==============================] - 0s 35ms/step - loss: 0.5419 - accuracy: 0.7367 - val_loss: 0.5369 - val_accuracy: 0.7300\n",
            "Epoch 15/100\n",
            "1/1 [==============================] - 0s 33ms/step - loss: 0.5371 - accuracy: 0.7283 - val_loss: 0.5305 - val_accuracy: 0.7400\n",
            "Epoch 16/100\n",
            "1/1 [==============================] - 0s 31ms/step - loss: 0.5335 - accuracy: 0.7317 - val_loss: 0.5240 - val_accuracy: 0.7400\n",
            "Epoch 17/100\n",
            "1/1 [==============================] - 0s 38ms/step - loss: 0.5302 - accuracy: 0.7350 - val_loss: 0.5171 - val_accuracy: 0.7400\n",
            "Epoch 18/100\n",
            "1/1 [==============================] - 0s 31ms/step - loss: 0.5269 - accuracy: 0.7333 - val_loss: 0.5100 - val_accuracy: 0.7400\n",
            "Epoch 19/100\n",
            "1/1 [==============================] - 0s 30ms/step - loss: 0.5236 - accuracy: 0.7367 - val_loss: 0.5033 - val_accuracy: 0.7350\n",
            "Epoch 20/100\n",
            "1/1 [==============================] - 0s 29ms/step - loss: 0.5205 - accuracy: 0.7417 - val_loss: 0.4972 - val_accuracy: 0.7450\n",
            "Epoch 21/100\n",
            "1/1 [==============================] - 0s 32ms/step - loss: 0.5177 - accuracy: 0.7500 - val_loss: 0.4920 - val_accuracy: 0.7450\n",
            "Epoch 22/100\n",
            "1/1 [==============================] - 0s 32ms/step - loss: 0.5154 - accuracy: 0.7467 - val_loss: 0.4874 - val_accuracy: 0.7450\n",
            "Epoch 23/100\n",
            "1/1 [==============================] - 0s 32ms/step - loss: 0.5133 - accuracy: 0.7517 - val_loss: 0.4836 - val_accuracy: 0.7450\n",
            "Epoch 24/100\n",
            "1/1 [==============================] - 0s 38ms/step - loss: 0.5116 - accuracy: 0.7600 - val_loss: 0.4804 - val_accuracy: 0.7650\n",
            "Epoch 25/100\n",
            "1/1 [==============================] - 0s 36ms/step - loss: 0.5098 - accuracy: 0.7550 - val_loss: 0.4776 - val_accuracy: 0.7700\n",
            "Epoch 26/100\n",
            "1/1 [==============================] - 0s 33ms/step - loss: 0.5078 - accuracy: 0.7567 - val_loss: 0.4749 - val_accuracy: 0.7750\n",
            "Epoch 27/100\n",
            "1/1 [==============================] - 0s 34ms/step - loss: 0.5055 - accuracy: 0.7617 - val_loss: 0.4727 - val_accuracy: 0.7750\n",
            "Epoch 28/100\n",
            "1/1 [==============================] - 0s 30ms/step - loss: 0.5032 - accuracy: 0.7600 - val_loss: 0.4705 - val_accuracy: 0.7700\n",
            "Epoch 29/100\n",
            "1/1 [==============================] - 0s 37ms/step - loss: 0.5006 - accuracy: 0.7600 - val_loss: 0.4685 - val_accuracy: 0.7700\n",
            "Epoch 30/100\n",
            "1/1 [==============================] - 0s 30ms/step - loss: 0.4981 - accuracy: 0.7667 - val_loss: 0.4671 - val_accuracy: 0.7650\n",
            "Epoch 31/100\n",
            "1/1 [==============================] - 0s 31ms/step - loss: 0.4959 - accuracy: 0.7633 - val_loss: 0.4660 - val_accuracy: 0.7750\n",
            "Epoch 32/100\n",
            "1/1 [==============================] - 0s 30ms/step - loss: 0.4940 - accuracy: 0.7700 - val_loss: 0.4652 - val_accuracy: 0.7850\n",
            "Epoch 33/100\n",
            "1/1 [==============================] - 0s 31ms/step - loss: 0.4921 - accuracy: 0.7717 - val_loss: 0.4647 - val_accuracy: 0.7850\n",
            "Epoch 34/100\n",
            "1/1 [==============================] - 0s 34ms/step - loss: 0.4904 - accuracy: 0.7833 - val_loss: 0.4642 - val_accuracy: 0.7800\n",
            "Epoch 35/100\n",
            "1/1 [==============================] - 0s 32ms/step - loss: 0.4885 - accuracy: 0.7867 - val_loss: 0.4637 - val_accuracy: 0.7700\n",
            "Epoch 36/100\n",
            "1/1 [==============================] - 0s 35ms/step - loss: 0.4865 - accuracy: 0.7883 - val_loss: 0.4633 - val_accuracy: 0.7700\n",
            "Epoch 37/100\n",
            "1/1 [==============================] - 0s 32ms/step - loss: 0.4846 - accuracy: 0.7867 - val_loss: 0.4631 - val_accuracy: 0.7700\n",
            "Epoch 38/100\n",
            "1/1 [==============================] - 0s 30ms/step - loss: 0.4826 - accuracy: 0.7800 - val_loss: 0.4631 - val_accuracy: 0.7700\n",
            "Epoch 39/100\n",
            "1/1 [==============================] - 0s 31ms/step - loss: 0.4807 - accuracy: 0.7750 - val_loss: 0.4631 - val_accuracy: 0.7750\n",
            "Epoch 40/100\n",
            "1/1 [==============================] - 0s 30ms/step - loss: 0.4790 - accuracy: 0.7750 - val_loss: 0.4627 - val_accuracy: 0.7800\n",
            "Epoch 41/100\n",
            "1/1 [==============================] - 0s 31ms/step - loss: 0.4772 - accuracy: 0.7800 - val_loss: 0.4617 - val_accuracy: 0.7800\n",
            "Epoch 42/100\n",
            "1/1 [==============================] - 0s 51ms/step - loss: 0.4754 - accuracy: 0.7733 - val_loss: 0.4602 - val_accuracy: 0.7800\n",
            "Epoch 43/100\n",
            "1/1 [==============================] - 0s 29ms/step - loss: 0.4735 - accuracy: 0.7683 - val_loss: 0.4582 - val_accuracy: 0.7800\n",
            "Epoch 44/100\n",
            "1/1 [==============================] - 0s 31ms/step - loss: 0.4716 - accuracy: 0.7783 - val_loss: 0.4560 - val_accuracy: 0.7750\n",
            "Epoch 45/100\n",
            "1/1 [==============================] - 0s 35ms/step - loss: 0.4698 - accuracy: 0.7833 - val_loss: 0.4538 - val_accuracy: 0.7750\n",
            "Epoch 46/100\n",
            "1/1 [==============================] - 0s 35ms/step - loss: 0.4680 - accuracy: 0.7900 - val_loss: 0.4517 - val_accuracy: 0.7850\n",
            "Epoch 47/100\n",
            "1/1 [==============================] - 0s 32ms/step - loss: 0.4664 - accuracy: 0.7950 - val_loss: 0.4497 - val_accuracy: 0.7850\n",
            "Epoch 48/100\n",
            "1/1 [==============================] - 0s 35ms/step - loss: 0.4647 - accuracy: 0.7967 - val_loss: 0.4481 - val_accuracy: 0.7800\n",
            "Epoch 49/100\n",
            "1/1 [==============================] - 0s 35ms/step - loss: 0.4629 - accuracy: 0.7950 - val_loss: 0.4468 - val_accuracy: 0.7800\n",
            "Epoch 50/100\n",
            "1/1 [==============================] - 0s 34ms/step - loss: 0.4611 - accuracy: 0.7983 - val_loss: 0.4458 - val_accuracy: 0.7800\n",
            "Epoch 51/100\n",
            "1/1 [==============================] - 0s 34ms/step - loss: 0.4594 - accuracy: 0.7967 - val_loss: 0.4448 - val_accuracy: 0.7800\n",
            "Epoch 52/100\n",
            "1/1 [==============================] - 0s 33ms/step - loss: 0.4576 - accuracy: 0.7967 - val_loss: 0.4439 - val_accuracy: 0.7700\n",
            "Epoch 53/100\n",
            "1/1 [==============================] - 0s 30ms/step - loss: 0.4559 - accuracy: 0.8000 - val_loss: 0.4429 - val_accuracy: 0.7750\n",
            "Epoch 54/100\n",
            "1/1 [==============================] - 0s 34ms/step - loss: 0.4541 - accuracy: 0.8000 - val_loss: 0.4416 - val_accuracy: 0.7750\n",
            "Epoch 55/100\n",
            "1/1 [==============================] - 0s 34ms/step - loss: 0.4523 - accuracy: 0.8017 - val_loss: 0.4405 - val_accuracy: 0.7800\n",
            "Epoch 56/100\n",
            "1/1 [==============================] - 0s 42ms/step - loss: 0.4505 - accuracy: 0.8050 - val_loss: 0.4395 - val_accuracy: 0.7800\n",
            "Epoch 57/100\n",
            "1/1 [==============================] - 0s 34ms/step - loss: 0.4487 - accuracy: 0.8017 - val_loss: 0.4389 - val_accuracy: 0.7850\n",
            "Epoch 58/100\n",
            "1/1 [==============================] - 0s 32ms/step - loss: 0.4470 - accuracy: 0.8017 - val_loss: 0.4386 - val_accuracy: 0.7900\n",
            "Epoch 59/100\n",
            "1/1 [==============================] - 0s 32ms/step - loss: 0.4452 - accuracy: 0.8050 - val_loss: 0.4386 - val_accuracy: 0.7950\n",
            "Epoch 60/100\n",
            "1/1 [==============================] - 0s 33ms/step - loss: 0.4433 - accuracy: 0.7983 - val_loss: 0.4388 - val_accuracy: 0.7950\n",
            "Epoch 61/100\n",
            "1/1 [==============================] - 0s 32ms/step - loss: 0.4415 - accuracy: 0.8017 - val_loss: 0.4391 - val_accuracy: 0.7950\n",
            "Epoch 62/100\n",
            "1/1 [==============================] - 0s 31ms/step - loss: 0.4397 - accuracy: 0.8033 - val_loss: 0.4395 - val_accuracy: 0.7950\n",
            "Epoch 63/100\n",
            "1/1 [==============================] - 0s 33ms/step - loss: 0.4379 - accuracy: 0.8067 - val_loss: 0.4400 - val_accuracy: 0.7900\n",
            "Epoch 64/100\n",
            "1/1 [==============================] - 0s 37ms/step - loss: 0.4360 - accuracy: 0.8117 - val_loss: 0.4402 - val_accuracy: 0.7900\n",
            "Epoch 65/100\n",
            "1/1 [==============================] - 0s 35ms/step - loss: 0.4341 - accuracy: 0.8100 - val_loss: 0.4401 - val_accuracy: 0.7900\n",
            "Epoch 66/100\n",
            "1/1 [==============================] - 0s 31ms/step - loss: 0.4321 - accuracy: 0.8083 - val_loss: 0.4398 - val_accuracy: 0.7950\n",
            "Epoch 67/100\n",
            "1/1 [==============================] - 0s 31ms/step - loss: 0.4302 - accuracy: 0.8083 - val_loss: 0.4395 - val_accuracy: 0.7950\n",
            "Epoch 68/100\n",
            "1/1 [==============================] - 0s 33ms/step - loss: 0.4282 - accuracy: 0.8067 - val_loss: 0.4393 - val_accuracy: 0.8000\n",
            "Epoch 69/100\n",
            "1/1 [==============================] - 0s 32ms/step - loss: 0.4263 - accuracy: 0.8133 - val_loss: 0.4389 - val_accuracy: 0.8000\n",
            "Epoch 70/100\n",
            "1/1 [==============================] - 0s 35ms/step - loss: 0.4242 - accuracy: 0.8117 - val_loss: 0.4383 - val_accuracy: 0.7950\n",
            "Epoch 71/100\n",
            "1/1 [==============================] - 0s 32ms/step - loss: 0.4223 - accuracy: 0.8117 - val_loss: 0.4373 - val_accuracy: 0.7950\n",
            "Epoch 72/100\n",
            "1/1 [==============================] - 0s 52ms/step - loss: 0.4202 - accuracy: 0.8117 - val_loss: 0.4360 - val_accuracy: 0.7950\n",
            "Epoch 73/100\n",
            "1/1 [==============================] - 0s 30ms/step - loss: 0.4182 - accuracy: 0.8117 - val_loss: 0.4343 - val_accuracy: 0.7950\n",
            "Epoch 74/100\n",
            "1/1 [==============================] - 0s 34ms/step - loss: 0.4161 - accuracy: 0.8150 - val_loss: 0.4331 - val_accuracy: 0.7950\n",
            "Epoch 75/100\n",
            "1/1 [==============================] - 0s 32ms/step - loss: 0.4140 - accuracy: 0.8167 - val_loss: 0.4324 - val_accuracy: 0.7950\n",
            "Epoch 76/100\n",
            "1/1 [==============================] - 0s 32ms/step - loss: 0.4118 - accuracy: 0.8133 - val_loss: 0.4319 - val_accuracy: 0.7800\n",
            "Epoch 77/100\n",
            "1/1 [==============================] - 0s 31ms/step - loss: 0.4096 - accuracy: 0.8167 - val_loss: 0.4315 - val_accuracy: 0.7750\n",
            "Epoch 78/100\n",
            "1/1 [==============================] - 0s 49ms/step - loss: 0.4075 - accuracy: 0.8167 - val_loss: 0.4312 - val_accuracy: 0.7750\n",
            "Epoch 79/100\n",
            "1/1 [==============================] - 0s 39ms/step - loss: 0.4055 - accuracy: 0.8183 - val_loss: 0.4308 - val_accuracy: 0.7700\n",
            "Epoch 80/100\n",
            "1/1 [==============================] - 0s 34ms/step - loss: 0.4035 - accuracy: 0.8183 - val_loss: 0.4303 - val_accuracy: 0.7750\n",
            "Epoch 81/100\n",
            "1/1 [==============================] - 0s 29ms/step - loss: 0.4015 - accuracy: 0.8200 - val_loss: 0.4300 - val_accuracy: 0.7700\n",
            "Epoch 82/100\n",
            "1/1 [==============================] - 0s 39ms/step - loss: 0.3995 - accuracy: 0.8183 - val_loss: 0.4297 - val_accuracy: 0.7700\n",
            "Epoch 83/100\n",
            "1/1 [==============================] - 0s 33ms/step - loss: 0.3974 - accuracy: 0.8217 - val_loss: 0.4297 - val_accuracy: 0.7700\n",
            "Epoch 84/100\n",
            "1/1 [==============================] - 0s 31ms/step - loss: 0.3953 - accuracy: 0.8233 - val_loss: 0.4293 - val_accuracy: 0.7800\n",
            "Epoch 85/100\n",
            "1/1 [==============================] - 0s 30ms/step - loss: 0.3932 - accuracy: 0.8300 - val_loss: 0.4285 - val_accuracy: 0.7800\n",
            "Epoch 86/100\n",
            "1/1 [==============================] - 0s 32ms/step - loss: 0.3911 - accuracy: 0.8317 - val_loss: 0.4277 - val_accuracy: 0.7800\n",
            "Epoch 87/100\n",
            "1/1 [==============================] - 0s 35ms/step - loss: 0.3890 - accuracy: 0.8350 - val_loss: 0.4268 - val_accuracy: 0.7800\n",
            "Epoch 88/100\n",
            "1/1 [==============================] - 0s 30ms/step - loss: 0.3869 - accuracy: 0.8350 - val_loss: 0.4260 - val_accuracy: 0.7800\n",
            "Epoch 89/100\n",
            "1/1 [==============================] - 0s 37ms/step - loss: 0.3848 - accuracy: 0.8350 - val_loss: 0.4255 - val_accuracy: 0.7800\n",
            "Epoch 90/100\n",
            "1/1 [==============================] - 0s 30ms/step - loss: 0.3827 - accuracy: 0.8367 - val_loss: 0.4252 - val_accuracy: 0.7750\n",
            "Epoch 91/100\n",
            "1/1 [==============================] - 0s 32ms/step - loss: 0.3805 - accuracy: 0.8383 - val_loss: 0.4252 - val_accuracy: 0.7750\n",
            "Epoch 92/100\n",
            "1/1 [==============================] - 0s 33ms/step - loss: 0.3783 - accuracy: 0.8383 - val_loss: 0.4254 - val_accuracy: 0.7750\n",
            "Epoch 93/100\n",
            "1/1 [==============================] - 0s 31ms/step - loss: 0.3762 - accuracy: 0.8383 - val_loss: 0.4256 - val_accuracy: 0.7750\n",
            "Epoch 94/100\n",
            "1/1 [==============================] - 0s 30ms/step - loss: 0.3740 - accuracy: 0.8383 - val_loss: 0.4254 - val_accuracy: 0.7750\n",
            "Epoch 95/100\n",
            "1/1 [==============================] - 0s 30ms/step - loss: 0.3718 - accuracy: 0.8350 - val_loss: 0.4259 - val_accuracy: 0.7700\n",
            "Epoch 96/100\n",
            "1/1 [==============================] - 0s 33ms/step - loss: 0.3694 - accuracy: 0.8367 - val_loss: 0.4267 - val_accuracy: 0.7700\n",
            "Epoch 97/100\n",
            "1/1 [==============================] - 0s 52ms/step - loss: 0.3670 - accuracy: 0.8417 - val_loss: 0.4278 - val_accuracy: 0.7700\n",
            "Epoch 98/100\n",
            "1/1 [==============================] - 0s 34ms/step - loss: 0.3647 - accuracy: 0.8450 - val_loss: 0.4283 - val_accuracy: 0.7750\n",
            "Epoch 99/100\n",
            "1/1 [==============================] - 0s 30ms/step - loss: 0.3625 - accuracy: 0.8400 - val_loss: 0.4286 - val_accuracy: 0.7750\n",
            "Epoch 100/100\n",
            "1/1 [==============================] - 0s 32ms/step - loss: 0.3601 - accuracy: 0.8417 - val_loss: 0.4293 - val_accuracy: 0.7750\n"
          ]
        },
        {
          "output_type": "execute_result",
          "data": {
            "text/plain": [
              "<keras.callbacks.History at 0x7f692cfce210>"
            ]
          },
          "metadata": {},
          "execution_count": 22
        }
      ],
      "source": [
        "model.fit(X_train,Y_train, batch_size=700,epochs=100,validation_data=(X_valid,Y_valid))"
      ]
    },
    {
      "cell_type": "markdown",
      "metadata": {
        "id": "oTcCZLLg4JvN"
      },
      "source": [
        "Because our dataset has entries which have a very varying scale (for ex diabetes_pedegree function is from 0 to 2.5 while glucose ranges from 0 to 200. Now we have to scale them down so that we can train our model better.We will import a package that lets us scale )\n",
        "\n",
        "scaling is done in upper levels"
      ]
    },
    {
      "cell_type": "code",
      "execution_count": null,
      "metadata": {
        "colab": {
          "base_uri": "https://localhost:8080/"
        },
        "id": "aPGqnEoLDgh-",
        "outputId": "b19aeb91-e38a-4126-b9b8-97a91b67e92d"
      },
      "outputs": [
        {
          "output_type": "stream",
          "name": "stdout",
          "text": [
            "7/7 [==============================] - 0s 2ms/step - loss: 0.4721 - accuracy: 0.7850\n"
          ]
        },
        {
          "output_type": "execute_result",
          "data": {
            "text/plain": [
              "[0.4720608592033386, 0.7850000262260437]"
            ]
          },
          "metadata": {},
          "execution_count": 23
        }
      ],
      "source": [
        "model.evaluate(X_test,Y_test)"
      ]
    },
    {
      "cell_type": "markdown",
      "source": [
        "Testing the accuracy with different batch size and epoches.\n",
        "1. batch_size=16,epochs=20\n",
        "   loss: 0.0184 - accuracy: 0.9967 - val_loss: 2.3206 - val_accuracy: 0.7800\n",
        "   loss: 2.1353 - accuracy: 0.7600 //testing\n",
        "\n",
        "2. batch_size=16,epochs=100\n",
        "   loss: 0.0154 - accuracy: 0.9967 - val_loss: 2.5880 - val_accuracy: 0.7800\n",
        "   loss: 2.3460 - accuracy: 0.7550//testing\n",
        "\n",
        "3. batch_size=10,epochs=100\n",
        "   loss: 0.0620 - accuracy: 0.9817 - val_loss: 3.4703 - val_accuracy: 0.7700\n",
        "   loss: 2.7822 - accuracy: 0.7550//testing\n",
        "\n",
        "4.  batch_size=700,epochs=100\n",
        "    loss: 0.3601 - accuracy: 0.8417 - val_loss: 0.4293 - val_accuracy: 0.7750\n",
        "    loss: 0.4721 - accuracy: 0.7850 //testing\n",
        "\n",
        "Accuracy has increased with increase in number of batch_size and epoches."
      ],
      "metadata": {
        "id": "Q78PAHtoY2Zo"
      }
    }
  ],
  "metadata": {
    "colab": {
      "provenance": []
    },
    "kernelspec": {
      "display_name": "Python 3",
      "name": "python3"
    },
    "language_info": {
      "name": "python"
    }
  },
  "nbformat": 4,
  "nbformat_minor": 0
}